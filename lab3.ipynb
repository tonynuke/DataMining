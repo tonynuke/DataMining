{
 "cells": [
  {
   "cell_type": "code",
   "execution_count": 34,
   "metadata": {},
   "outputs": [],
   "source": [
    "import pymorphy2\n",
    "\n",
    "morph = pymorphy2.MorphAnalyzer()"
   ]
  },
  {
   "cell_type": "code",
   "execution_count": 35,
   "metadata": {},
   "outputs": [
    {
     "name": "stdout",
     "output_type": "stream",
     "text": [
      "для\n",
      "ремонт\n",
      "коридор\n",
      "пост\n",
      "эц\n",
      "ст\n",
      "ферма\n",
      "необходимый\n",
      "изготовить\n",
      "и\n",
      "установить\n",
      "3\n",
      "противопожарный\n",
      "дверь\n",
      "в\n",
      "дверной\n",
      "проём\n"
     ]
    }
   ],
   "source": [
    "# исходная заявка\n",
    "sentence = '''Для ремонта коридора поста ЭЦ ст Ферма необходимо изготовить и установить 3 противопожарные двери в дверные проемы'''\n",
    "\n",
    "# разобъем ее на отдельные слова (токены)\n",
    "words = sentence.split(' ')\n",
    "\n",
    "# получим леммы (нормальная форма слова)\n",
    "for word in words:\n",
    "    result = morph.parse(word)\n",
    "    print(result[0].normal_form)"
   ]
  },
  {
   "cell_type": "code",
   "execution_count": 36,
   "metadata": {},
   "outputs": [
    {
     "name": "stdout",
     "output_type": "stream",
     "text": [
      "Для PREP\n",
      "ремонта NOUN,inan,masc sing,gent\n",
      "коридора NOUN,inan,masc sing,gent\n",
      "поста NOUN,inan,masc sing,gent\n",
      "ЭЦ UNKN\n",
      "ст NOUN,inan,femn,Fixd,Abbr sing,nomn\n",
      "Ферма NOUN,inan,femn sing,nomn\n",
      "необходимо ADJS,Qual neut,sing\n",
      "изготовить INFN,perf,tran\n",
      "и CONJ\n",
      "установить INFN,perf,tran\n",
      "3 NUMB,intg\n",
      "противопожарные ADJF plur,nomn\n",
      "двери NOUN,inan,femn sing,gent\n",
      "в PREP\n",
      "дверные ADJF plur,nomn\n",
      "проемы NOUN,inan,masc plur,nomn\n"
     ]
    }
   ],
   "source": [
    "# получим всю инфу\n",
    "for word in words:\n",
    "    result = morph.parse(word)\n",
    "    print(word, result[0].tag)"
   ]
  },
  {
   "cell_type": "code",
   "execution_count": 37,
   "metadata": {},
   "outputs": [
    {
     "name": "stdout",
     "output_type": "stream",
     "text": [
      "ремонта коридора поста ЭЦ ст Ферма необходимо изготовить установить 3 противопожарные двери дверные проемы\n"
     ]
    }
   ],
   "source": [
    "def pos(word, morth):\n",
    "    return morth.parse(word)[0].tag.POS\n",
    "\n",
    "# удаляем вводные слова и т.п. (междометие, предлоги, частицы, союзы)\n",
    "functors_pos = {'INTJ', 'PRCL', 'CONJ', 'PREP'}  # function words\n",
    "print(*[word for word in words if pos(word, morph) not in functors_pos])"
   ]
  },
  {
   "cell_type": "code",
   "execution_count": 46,
   "metadata": {},
   "outputs": [
    {
     "name": "stdout",
     "output_type": "stream",
     "text": [
      "[nltk_data] Downloading package averaged_perceptron_tagger to\n",
      "[nltk_data]     C:\\Users\\Anton\\AppData\\Roaming\\nltk_data...\n",
      "[nltk_data]   Unzipping taggers\\averaged_perceptron_tagger.zip.\n",
      "['Для', 'ремонта', 'коридора', 'поста', 'ЭЦ', 'ст', 'Ферма', 'необходимо', 'изготовить', 'и', 'установить', '3', 'противопожарные', 'двери', 'в', 'дверные', 'проемы']\n"
     ]
    }
   ],
   "source": [
    "import nltk\n",
    "\n",
    "tokens = nltk.word_tokenize(sentence)\n",
    "print(tokens)"
   ]
  },
  {
   "cell_type": "code",
   "execution_count": 47,
   "metadata": {},
   "outputs": [
    {
     "name": "stdout",
     "output_type": "stream",
     "text": [
      "[('Для', 'JJ'), ('ремонта', 'NNP'), ('коридора', 'NNP'), ('поста', 'NNP'), ('ЭЦ', 'NNP'), ('ст', 'NNP'), ('Ферма', 'NNP'), ('необходимо', 'NNP'), ('изготовить', 'NNP'), ('и', 'NNP'), ('установить', 'VBD'), ('3', 'CD'), ('противопожарные', 'NNP'), ('двери', 'NNP'), ('в', 'NNP'), ('дверные', 'NNP'), ('проемы', 'NN')]\n"
     ]
    }
   ],
   "source": [
    "tagged = nltk.pos_tag(tokens)\n",
    "print(tagged)"
   ]
  },
  {
   "cell_type": "code",
   "execution_count": null,
   "metadata": {},
   "outputs": [],
   "source": []
  }
 ],
 "metadata": {
  "kernelspec": {
   "display_name": "Python 3",
   "language": "python",
   "name": "python3"
  },
  "language_info": {
   "codemirror_mode": {
    "name": "ipython",
    "version": 3
   },
   "file_extension": ".py",
   "mimetype": "text/x-python",
   "name": "python",
   "nbconvert_exporter": "python",
   "pygments_lexer": "ipython3",
   "version": "3.6.5"
  }
 },
 "nbformat": 4,
 "nbformat_minor": 1
}
